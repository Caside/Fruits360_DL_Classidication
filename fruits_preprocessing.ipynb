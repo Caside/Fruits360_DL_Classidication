{
 "cells": [
  {
   "cell_type": "code",
   "execution_count": 6,
   "metadata": {},
   "outputs": [],
   "source": [
    "import numpy as np\n",
    "import pandas as pd\n",
    "import matplotlib.pyplot as plt\n",
    "import glob\n",
    "import cv2\n",
    "import tensorflow as tf\n",
    "from tensorflow import keras\n",
    "from keras.layers import Conv2D, MaxPooling2D, Flatten, Dense\n",
    "from keras.models import Sequential\n",
    "from sklearn.metrics import accuracy_score\n",
    "import os\n",
    "import gc\n",
    "import random"
   ]
  },
  {
   "cell_type": "code",
   "execution_count": 8,
   "metadata": {},
   "outputs": [
    {
     "name": "stdout",
     "output_type": "stream",
     "text": [
      "Wall time: 1min 57s\n"
     ]
    },
    {
     "data": {
      "text/plain": [
       "120"
      ]
     },
     "execution_count": 8,
     "metadata": {},
     "output_type": "execute_result"
    }
   ],
   "source": [
    "%%time\n",
    "#Для начала создадим объект numpy.ndarray из директории с исходными изображениями\n",
    "#Для корректной работы в директории с данным ноутбуком должна находиться разархивированная папка fruits-360\n",
    "#Данная процедура использует функции библиотеки OpenCV для чтения изображений, изменения размера\n",
    "#и создания массива из лейблов\n",
    "training_fruit_img = []\n",
    "training_label = []\n",
    "for dir_path in glob.glob(\"fruits-360/Training/*\"):\n",
    "    img_label = dir_path.split(\"\\\\\")[-1]\n",
    "    for img_path in glob.glob(os.path.join(dir_path, \"*.jpg\")):\n",
    "        img = cv2.imread(img_path)\n",
    "        img = cv2.resize(img, (64, 64))\n",
    "        img = cv2.cvtColor(img, cv2.COLOR_BGR2RGB)\n",
    "        training_fruit_img.append(img)\n",
    "        training_label.append(img_label)\n",
    "training_fruit_img = np.array(training_fruit_img)\n",
    "training_label = np.array(training_label)\n",
    "len(np.unique(training_label))"
   ]
  },
  {
   "cell_type": "code",
   "execution_count": 9,
   "metadata": {},
   "outputs": [
    {
     "name": "stdout",
     "output_type": "stream",
     "text": [
      "Wall time: 38.8 s\n"
     ]
    },
    {
     "data": {
      "text/plain": [
       "120"
      ]
     },
     "execution_count": 9,
     "metadata": {},
     "output_type": "execute_result"
    }
   ],
   "source": [
    "%%time\n",
    "#Повторим для тестовых изображений\n",
    "test_fruit_img = []\n",
    "test_label = []\n",
    "for dir_path in glob.glob(\"fruits-360/Test/*\"):\n",
    "    img_label = dir_path.split(\"\\\\\")[-1]\n",
    "    for img_path in glob.glob(os.path.join(dir_path, \"*.jpg\")):\n",
    "        img = cv2.imread(img_path)\n",
    "        img = cv2.resize(img, (64, 64))\n",
    "        img = cv2.cvtColor(img, cv2.COLOR_BGR2RGB)\n",
    "        test_fruit_img.append(img)\n",
    "        test_label.append(img_label)\n",
    "test_fruit_img = np.array(test_fruit_img)\n",
    "test_label = np.array(test_label)\n",
    "len(np.unique(test_label))"
   ]
  },
  {
   "cell_type": "code",
   "execution_count": 10,
   "metadata": {},
   "outputs": [],
   "source": [
    "#Самописные лейбл-энкодер и декодер\n",
    "label_to_id = {v : k for k, v in enumerate(np.unique(training_label))}\n",
    "id_to_label = {v : k for k, v in label_to_id.items()}"
   ]
  },
  {
   "cell_type": "code",
   "execution_count": 11,
   "metadata": {},
   "outputs": [],
   "source": [
    "#Кодируем классы для трейна и теста\n",
    "training_label_id = np.array([label_to_id[i] for i in training_label])\n",
    "test_label_id = np.array([label_to_id[i] for i in test_label])"
   ]
  },
  {
   "cell_type": "code",
   "execution_count": 12,
   "metadata": {},
   "outputs": [],
   "source": [
    "#Нормализуем числовые значения изображений, чтобы их область значения была в интервале [0, 1]\n",
    "training_fruit_img = training_fruit_img / 255.0"
   ]
  },
  {
   "cell_type": "code",
   "execution_count": 13,
   "metadata": {},
   "outputs": [],
   "source": [
    "test_fruit_img = test_fruit_img / 255.0"
   ]
  },
  {
   "cell_type": "code",
   "execution_count": 14,
   "metadata": {},
   "outputs": [],
   "source": [
    "#Построим исходную сеть из 4 свёрточных слоёв и двух полносвязных\n",
    "model = Sequential()\n",
    "model.add(Conv2D(16, (3, 3), input_shape = (64, 64, 3), padding = \"same\", activation = \"relu\"))\n",
    "model.add(MaxPooling2D(pool_size = (2, 2)))\n",
    "\n",
    "model.add(Conv2D(32, (3, 3), padding = \"same\", activation = \"relu\"))\n",
    "model.add(MaxPooling2D(pool_size = (2, 2)))\n",
    "\n",
    "model.add(Conv2D(32, (3, 3), padding = \"same\", activation = \"relu\"))\n",
    "model.add(MaxPooling2D(pool_size = (2, 2)))\n",
    "\n",
    "model.add(Conv2D(64, (3, 3), padding = \"same\", activation = \"relu\"))\n",
    "model.add(MaxPooling2D(pool_size = (2, 2)))\n",
    "\n",
    "model.add(Flatten())\n",
    "model.add(Dense(256, activation = \"relu\"))\n",
    "model.add(Dense(120, activation = \"softmax\"))"
   ]
  },
  {
   "cell_type": "code",
   "execution_count": 15,
   "metadata": {},
   "outputs": [],
   "source": [
    "model.compile(loss = \"sparse_categorical_crossentropy\", optimizer = 'Adam', metrics = ['accuracy'])"
   ]
  },
  {
   "cell_type": "code",
   "execution_count": 17,
   "metadata": {},
   "outputs": [
    {
     "name": "stdout",
     "output_type": "stream",
     "text": [
      "Epoch 1/10\n",
      "60498/60498 [==============================] - 59s 968us/step - loss: 1.1735 - accuracy: 0.7099\n",
      "Epoch 2/10\n",
      "60498/60498 [==============================] - 56s 928us/step - loss: 0.0926 - accuracy: 0.9724\n",
      "Epoch 3/10\n",
      "60498/60498 [==============================] - 57s 942us/step - loss: 0.0400 - accuracy: 0.9884\n",
      "Epoch 4/10\n",
      "60498/60498 [==============================] - 56s 932us/step - loss: 0.0261 - accuracy: 0.9924\n",
      "Epoch 5/10\n",
      "60498/60498 [==============================] - 56s 927us/step - loss: 0.0977 - accuracy: 0.9762\n",
      "Epoch 6/10\n",
      "60498/60498 [==============================] - 56s 930us/step - loss: 0.0042 - accuracy: 0.9992\n",
      "Epoch 7/10\n",
      "60498/60498 [==============================] - 56s 924us/step - loss: 0.1128 - accuracy: 0.9739\n",
      "Epoch 8/10\n",
      "60498/60498 [==============================] - 56s 921us/step - loss: 0.0069 - accuracy: 0.9987\n",
      "Epoch 9/10\n",
      "60498/60498 [==============================] - 56s 929us/step - loss: 9.5930e-04 - accuracy: 1.0000\n",
      "Epoch 10/10\n",
      "60498/60498 [==============================] - 57s 943us/step - loss: 5.4272e-04 - accuracy: 1.0000\n",
      "Wall time: 9min 25s\n"
     ]
    },
    {
     "data": {
      "text/plain": [
       "<keras.callbacks.callbacks.History at 0x23f37b00b88>"
      ]
     },
     "execution_count": 17,
     "metadata": {},
     "output_type": "execute_result"
    }
   ],
   "source": [
    "%%time\n",
    "model.fit(training_fruit_img, training_label_id, batch_size = 256, epochs = 10)"
   ]
  },
  {
   "cell_type": "code",
   "execution_count": 18,
   "metadata": {},
   "outputs": [
    {
     "name": "stdout",
     "output_type": "stream",
     "text": [
      "Wall time: 7.73 s\n"
     ]
    }
   ],
   "source": [
    "%%time\n",
    "predicted_classes = model.predict_classes(test_fruit_img)"
   ]
  },
  {
   "cell_type": "code",
   "execution_count": 19,
   "metadata": {},
   "outputs": [
    {
     "data": {
      "text/plain": [
       "0.973183978275628"
      ]
     },
     "execution_count": 19,
     "metadata": {},
     "output_type": "execute_result"
    }
   ],
   "source": [
    "accuracy_score(predicted_classes, test_label_id)"
   ]
  },
  {
   "cell_type": "code",
   "execution_count": 25,
   "metadata": {},
   "outputs": [],
   "source": [
    "#Сохраним полученные тестовые и тренировочные данные в файл для более удобного дальнейшего использования\n",
    "#В моём случае препроцессинг занимает слишком много оперативной памяти и многократное повторение может вызвать ошибки\n",
    "np.save('training_fruit_img.npy', training_fruit_img)\n",
    "np.save('test_fruit_img.npy', test_fruit_img)"
   ]
  },
  {
   "cell_type": "code",
   "execution_count": 9,
   "metadata": {},
   "outputs": [],
   "source": [
    "np.save('training_label_id.npy', training_label_id)\n",
    "np.save('test_label_id.npy', test_label_id)"
   ]
  }
 ],
 "metadata": {
  "kernelspec": {
   "display_name": "Python 3",
   "language": "python",
   "name": "python3"
  },
  "language_info": {
   "codemirror_mode": {
    "name": "ipython",
    "version": 3
   },
   "file_extension": ".py",
   "mimetype": "text/x-python",
   "name": "python",
   "nbconvert_exporter": "python",
   "pygments_lexer": "ipython3",
   "version": "3.7.7"
  }
 },
 "nbformat": 4,
 "nbformat_minor": 4
}
