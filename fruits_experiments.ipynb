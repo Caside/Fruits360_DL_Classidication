{
 "cells": [
  {
   "cell_type": "code",
   "execution_count": 2,
   "metadata": {},
   "outputs": [
    {
     "name": "stderr",
     "output_type": "stream",
     "text": [
      "Using TensorFlow backend.\n"
     ]
    }
   ],
   "source": [
    "import numpy as np\n",
    "import pandas as pd\n",
    "import matplotlib.pyplot as plt\n",
    "import glob\n",
    "import cv2\n",
    "import tensorflow as tf\n",
    "from tensorflow import keras\n",
    "from keras.layers import Conv2D, MaxPooling2D, Flatten, Dense, Dropout, BatchNormalization\n",
    "from keras.models import Sequential\n",
    "from sklearn.metrics import accuracy_score\n",
    "import os"
   ]
  },
  {
   "cell_type": "code",
   "execution_count": 5,
   "metadata": {},
   "outputs": [
    {
     "name": "stdout",
     "output_type": "stream",
     "text": [
      "Wall time: 19.3 s\n"
     ]
    }
   ],
   "source": [
    "%%time\n",
    "#Чтобы не терять время на препроцессинг, просто загрузим ранее приготовленные данные\n",
    "training_fruit_img = np.load('training_fruit_img.npy')\n",
    "test_fruit_img = np.load('test_fruit_img.npy')\n",
    "training_label_id = np.load('training_label_id.npy')\n",
    "test_label_id = np.load('test_label_id.npy')"
   ]
  },
  {
   "cell_type": "code",
   "execution_count": 4,
   "metadata": {},
   "outputs": [],
   "source": [
    "#Исходная архетиктура сети, состоящая из 4х свёрточных слоёв и двух полносвязных.\n",
    "model = Sequential()\n",
    "model.add(Conv2D(16, (3, 3), input_shape = (64, 64, 3), padding = \"same\", activation = \"relu\"))\n",
    "model.add(MaxPooling2D(pool_size = (2, 2)))\n",
    "\n",
    "model.add(Conv2D(32, (3, 3), padding = \"same\", activation = \"relu\"))\n",
    "model.add(MaxPooling2D(pool_size = (2, 2)))\n",
    "\n",
    "model.add(Conv2D(32, (3, 3), padding = \"same\", activation = \"relu\"))\n",
    "model.add(MaxPooling2D(pool_size = (2, 2)))\n",
    "\n",
    "model.add(Conv2D(64, (3, 3), padding = \"same\", activation = \"relu\"))\n",
    "model.add(MaxPooling2D(pool_size = (2, 2)))\n",
    "\n",
    "model.add(Flatten())\n",
    "model.add(Dense(256, activation = \"relu\"))\n",
    "model.add(Dense(120, activation = \"softmax\"))\n",
    "\n",
    "model.compile(loss = \"sparse_categorical_crossentropy\", optimizer = 'Adam', metrics = ['accuracy'])"
   ]
  },
  {
   "cell_type": "code",
   "execution_count": 6,
   "metadata": {},
   "outputs": [
    {
     "name": "stdout",
     "output_type": "stream",
     "text": [
      "Epoch 1/10\n",
      "60498/60498 [==============================] - 10s 170us/step - loss: 1.2237 - accuracy: 0.6970\n",
      "Epoch 2/10\n",
      "60498/60498 [==============================] - 8s 128us/step - loss: 0.0938 - accuracy: 0.9735\n",
      "Epoch 3/10\n",
      "60498/60498 [==============================] - 8s 128us/step - loss: 0.1441 - accuracy: 0.9652\n",
      "Epoch 4/10\n",
      "60498/60498 [==============================] - 8s 128us/step - loss: 0.0131 - accuracy: 0.9974\n",
      "Epoch 5/10\n",
      "60498/60498 [==============================] - 8s 128us/step - loss: 0.0071 - accuracy: 0.9989\n",
      "Epoch 6/10\n",
      "60498/60498 [==============================] - 8s 128us/step - loss: 0.0024 - accuracy: 0.9997\n",
      "Epoch 7/10\n",
      "60498/60498 [==============================] - 8s 128us/step - loss: 0.0066 - accuracy: 0.9984\n",
      "Epoch 8/10\n",
      "60498/60498 [==============================] - 8s 128us/step - loss: 0.0561 - accuracy: 0.9846\n",
      "Epoch 9/10\n",
      "60498/60498 [==============================] - 8s 128us/step - loss: 0.0014 - accuracy: 0.9998\n",
      "Epoch 10/10\n",
      "60498/60498 [==============================] - 8s 128us/step - loss: 9.2003e-04 - accuracy: 0.9999\n",
      "Wall time: 1min 20s\n"
     ]
    },
    {
     "data": {
      "text/plain": [
       "<keras.callbacks.callbacks.History at 0x2397ad0dd08>"
      ]
     },
     "execution_count": 6,
     "metadata": {},
     "output_type": "execute_result"
    }
   ],
   "source": [
    "%%time\n",
    "model.fit(training_fruit_img, training_label_id, batch_size = 256, epochs = 10)"
   ]
  },
  {
   "cell_type": "code",
   "execution_count": 7,
   "metadata": {},
   "outputs": [
    {
     "data": {
      "text/plain": [
       "0.9755600814663951"
      ]
     },
     "execution_count": 7,
     "metadata": {},
     "output_type": "execute_result"
    }
   ],
   "source": [
    "#Валидация на тесте\n",
    "predicted_classes = model.predict_classes(test_fruit_img)\n",
    "accuracy_score(predicted_classes, test_label_id)"
   ]
  },
  {
   "cell_type": "code",
   "execution_count": 68,
   "metadata": {},
   "outputs": [],
   "source": [
    "#Попробуем использовать свёрточные слои предобученной сети VGG16\n",
    "from keras.applications import VGG16\n",
    "image_size = 64\n",
    "vgg_conv = VGG16(weights='imagenet', include_top=False, input_shape=(image_size, image_size, 3))\n",
    "for layer in vgg_conv.layers[:-2]:\n",
    "    layer.trainable = False\n",
    "\n",
    "model = Sequential()\n",
    "model.add(vgg_conv)\n",
    "model.add(Flatten())\n",
    "model.add(Dense(128, activation='relu', )) \n",
    "model.add(Dense(120, activation='softmax'))\n",
    "\n",
    "model.compile(loss='sparse_categorical_crossentropy', optimizer='Adam', metrics=['accuracy'])"
   ]
  },
  {
   "cell_type": "code",
   "execution_count": 69,
   "metadata": {},
   "outputs": [
    {
     "name": "stdout",
     "output_type": "stream",
     "text": [
      "Epoch 1/10\n",
      "60498/60498 [==============================] - 25s 408us/step - loss: 0.6339 - accuracy: 0.8620\n",
      "Epoch 2/10\n",
      "60498/60498 [==============================] - 25s 405us/step - loss: 0.0119 - accuracy: 0.9989\n",
      "Epoch 3/10\n",
      "60498/60498 [==============================] - 25s 405us/step - loss: 0.0032 - accuracy: 0.9999\n",
      "Epoch 4/10\n",
      "60498/60498 [==============================] - 25s 406us/step - loss: 0.0139 - accuracy: 0.9966\n",
      "Epoch 5/10\n",
      "60498/60498 [==============================] - 25s 407us/step - loss: 0.0226 - accuracy: 0.9941\n",
      "Epoch 6/10\n",
      "60498/60498 [==============================] - 25s 407us/step - loss: 9.4735e-04 - accuracy: 0.9998\n",
      "Epoch 7/10\n",
      "60498/60498 [==============================] - 25s 407us/step - loss: 1.1507e-04 - accuracy: 1.0000\n",
      "Epoch 8/10\n",
      "60498/60498 [==============================] - 25s 407us/step - loss: 8.4736e-05 - accuracy: 1.0000\n",
      "Epoch 9/10\n",
      "60498/60498 [==============================] - 25s 408us/step - loss: 6.8253e-05 - accuracy: 1.0000\n",
      "Epoch 10/10\n",
      "60498/60498 [==============================] - 25s 416us/step - loss: 5.7152e-05 - accuracy: 1.0000\n",
      "Wall time: 4min 7s\n"
     ]
    },
    {
     "data": {
      "text/plain": [
       "<keras.callbacks.callbacks.History at 0x23b78ae40c8>"
      ]
     },
     "execution_count": 69,
     "metadata": {},
     "output_type": "execute_result"
    }
   ],
   "source": [
    "%%time\n",
    "model.fit(training_fruit_img, training_label_id, batch_size = 256, epochs = 10)"
   ]
  },
  {
   "cell_type": "code",
   "execution_count": 70,
   "metadata": {},
   "outputs": [
    {
     "data": {
      "text/plain": [
       "0.9798273688294055"
      ]
     },
     "execution_count": 70,
     "metadata": {},
     "output_type": "execute_result"
    }
   ],
   "source": [
    "predicted_classes = model.predict_classes(test_fruit_img)\n",
    "accuracy_score(predicted_classes, test_label_id)"
   ]
  },
  {
   "cell_type": "code",
   "execution_count": 71,
   "metadata": {},
   "outputs": [],
   "source": [
    "#Мы добились незначительного роста точности, потеряв время на обучение"
   ]
  },
  {
   "cell_type": "code",
   "execution_count": 45,
   "metadata": {},
   "outputs": [],
   "source": [
    "#Добавим в исходную архитектуру дропаут-слои\n",
    "model = Sequential()\n",
    "model.add(Conv2D(16, (3, 3), input_shape = (64, 64, 3), padding = \"same\", activation = \"relu\"))\n",
    "model.add(Dropout(0.5))\n",
    "model.add(MaxPooling2D(pool_size = (2, 2)))\n",
    "\n",
    "model.add(Conv2D(32, (3, 3), padding = \"same\", activation = \"relu\"))\n",
    "model.add(Dropout(0.5))\n",
    "model.add(MaxPooling2D(pool_size = (2, 2)))\n",
    "\n",
    "model.add(Conv2D(32, (3, 3), padding = \"same\", activation = \"relu\"))\n",
    "model.add(MaxPooling2D(pool_size = (2, 2)))\n",
    "\n",
    "model.add(Conv2D(64, (3, 3), padding = \"same\", activation = \"relu\"))\n",
    "model.add(MaxPooling2D(pool_size = (2, 2)))\n",
    "\n",
    "model.add(Flatten())\n",
    "model.add(Dense(256, activation = \"relu\"))\n",
    "model.add(Dense(120, activation = \"softmax\"))\n",
    "\n",
    "model.compile(loss = \"sparse_categorical_crossentropy\", optimizer = 'Adam', metrics = ['accuracy'])"
   ]
  },
  {
   "cell_type": "code",
   "execution_count": 46,
   "metadata": {},
   "outputs": [
    {
     "name": "stdout",
     "output_type": "stream",
     "text": [
      "Epoch 1/10\n",
      "60498/60498 [==============================] - 11s 183us/step - loss: 1.0709 - accuracy: 0.7338\n",
      "Epoch 2/10\n",
      "60498/60498 [==============================] - 11s 177us/step - loss: 0.0754 - accuracy: 0.9763\n",
      "Epoch 3/10\n",
      "60498/60498 [==============================] - 11s 177us/step - loss: 0.0347 - accuracy: 0.9898\n",
      "Epoch 4/10\n",
      "60498/60498 [==============================] - 11s 177us/step - loss: 0.0269 - accuracy: 0.9916\n",
      "Epoch 5/10\n",
      "60498/60498 [==============================] - 11s 178us/step - loss: 0.0139 - accuracy: 0.9959\n",
      "Epoch 6/10\n",
      "60498/60498 [==============================] - 11s 178us/step - loss: 0.0390 - accuracy: 0.9902\n",
      "Epoch 7/10\n",
      "60498/60498 [==============================] - 11s 178us/step - loss: 0.0020 - accuracy: 0.9996\n",
      "Epoch 8/10\n",
      "60498/60498 [==============================] - 11s 178us/step - loss: 0.0145 - accuracy: 0.9959\n",
      "Epoch 9/10\n",
      "60498/60498 [==============================] - 11s 178us/step - loss: 0.0164 - accuracy: 0.9954\n",
      "Epoch 10/10\n",
      "60498/60498 [==============================] - 11s 178us/step - loss: 0.0029 - accuracy: 0.9993\n",
      "Wall time: 1min 48s\n"
     ]
    },
    {
     "data": {
      "text/plain": [
       "<keras.callbacks.callbacks.History at 0x23b752b3788>"
      ]
     },
     "execution_count": 46,
     "metadata": {},
     "output_type": "execute_result"
    }
   ],
   "source": [
    "%%time\n",
    "model.fit(training_fruit_img, training_label_id, batch_size = 256, epochs = 10)"
   ]
  },
  {
   "cell_type": "code",
   "execution_count": 47,
   "metadata": {},
   "outputs": [
    {
     "data": {
      "text/plain": [
       "0.9380758413344972"
      ]
     },
     "execution_count": 47,
     "metadata": {},
     "output_type": "execute_result"
    }
   ],
   "source": [
    "predicted_classes = model.predict_classes(test_fruit_img)\n",
    "accuracy_score(predicted_classes, test_label_id)"
   ]
  },
  {
   "cell_type": "code",
   "execution_count": null,
   "metadata": {},
   "outputs": [],
   "source": [
    "#Дропауты явно только ухудшили точность предсказания. Это свидетельствует об отсутствии переобучения в исходной модели."
   ]
  },
  {
   "cell_type": "code",
   "execution_count": 48,
   "metadata": {},
   "outputs": [],
   "source": [
    "#Упростим архитектуру сети, исключив 1 свёрточный слой.\n",
    "model = Sequential()\n",
    "model.add(Conv2D(16, (3, 3), input_shape = (64, 64, 3), padding = \"same\", activation = \"relu\"))\n",
    "model.add(MaxPooling2D(pool_size = (2, 2)))\n",
    "\n",
    "model.add(Conv2D(32, (3, 3), padding = \"same\", activation = \"relu\"))\n",
    "model.add(MaxPooling2D(pool_size = (2, 2)))\n",
    "\n",
    "model.add(Conv2D(32, (3, 3), padding = \"same\", activation = \"relu\"))\n",
    "model.add(MaxPooling2D(pool_size = (2, 2)))\n",
    "\n",
    "\n",
    "model.add(Flatten())\n",
    "model.add(Dense(120, activation = \"softmax\"))\n",
    "\n",
    "model.compile(loss = \"sparse_categorical_crossentropy\", optimizer = 'Adam', metrics = ['accuracy'])"
   ]
  },
  {
   "cell_type": "code",
   "execution_count": 49,
   "metadata": {},
   "outputs": [
    {
     "name": "stdout",
     "output_type": "stream",
     "text": [
      "Epoch 1/10\n",
      "60498/60498 [==============================] - 8s 125us/step - loss: 0.9522 - accuracy: 0.7790\n",
      "Epoch 2/10\n",
      "60498/60498 [==============================] - 7s 123us/step - loss: 0.0346 - accuracy: 0.9917\n",
      "Epoch 3/10\n",
      "60498/60498 [==============================] - 7s 123us/step - loss: 0.0065 - accuracy: 0.9984\n",
      "Epoch 4/10\n",
      "60498/60498 [==============================] - 7s 124us/step - loss: 0.0161 - accuracy: 0.9955\n",
      "Epoch 5/10\n",
      "60498/60498 [==============================] - 7s 123us/step - loss: 0.0016 - accuracy: 0.9998\n",
      "Epoch 6/10\n",
      "60498/60498 [==============================] - 7s 123us/step - loss: 4.5247e-04 - accuracy: 1.0000\n",
      "Epoch 7/10\n",
      "60498/60498 [==============================] - 7s 122us/step - loss: 2.0120e-04 - accuracy: 1.0000\n",
      "Epoch 8/10\n",
      "60498/60498 [==============================] - 7s 123us/step - loss: 2.0256e-04 - accuracy: 1.00000s - loss: 2.0948e-04 - accuracy: 1. - ETA: 0s - loss: 2.0732e-04 \n",
      "Epoch 9/10\n",
      "60498/60498 [==============================] - 7s 122us/step - loss: 1.0108e-04 - accuracy: 1.0000\n",
      "Epoch 10/10\n",
      "60498/60498 [==============================] - 7s 123us/step - loss: 8.1328e-05 - accuracy: 1.0000\n",
      "Wall time: 1min 14s\n"
     ]
    },
    {
     "data": {
      "text/plain": [
       "<keras.callbacks.callbacks.History at 0x23b7582c248>"
      ]
     },
     "execution_count": 49,
     "metadata": {},
     "output_type": "execute_result"
    }
   ],
   "source": [
    "%%time\n",
    "model.fit(training_fruit_img, training_label_id, batch_size = 256, epochs = 10)"
   ]
  },
  {
   "cell_type": "code",
   "execution_count": 50,
   "metadata": {},
   "outputs": [
    {
     "data": {
      "text/plain": [
       "0.9709048588885656"
      ]
     },
     "execution_count": 50,
     "metadata": {},
     "output_type": "execute_result"
    }
   ],
   "source": [
    "predicted_classes = model.predict_classes(test_fruit_img)\n",
    "accuracy_score(predicted_classes, test_label_id)"
   ]
  },
  {
   "cell_type": "code",
   "execution_count": 51,
   "metadata": {},
   "outputs": [],
   "source": [
    "#Мы упростили архитектуру сети, что не привело к ухудшению точности на тесте. Попробуем упростить ещё сильнее"
   ]
  },
  {
   "cell_type": "code",
   "execution_count": 53,
   "metadata": {},
   "outputs": [],
   "source": [
    "model = Sequential()\n",
    "model.add(Conv2D(32, (3, 3), input_shape = (64, 64, 3), padding = \"same\", activation = \"relu\"))\n",
    "model.add(BatchNormalization())\n",
    "model.add(MaxPooling2D(pool_size = (2, 2)))\n",
    "\n",
    "model.add(Conv2D(64, (3, 3), padding = \"same\", activation = \"relu\"))\n",
    "model.add(BatchNormalization())\n",
    "model.add(MaxPooling2D(pool_size = (2, 2)))\n",
    "\n",
    "model.add(Flatten())\n",
    "model.add(Dense(120, activation = \"softmax\"))\n",
    "\n",
    "model.compile(loss = \"sparse_categorical_crossentropy\", optimizer = 'Adam', metrics = ['accuracy'])"
   ]
  },
  {
   "cell_type": "code",
   "execution_count": 54,
   "metadata": {},
   "outputs": [
    {
     "name": "stdout",
     "output_type": "stream",
     "text": [
      "Epoch 1/10\n",
      "60498/60498 [==============================] - 25s 416us/step - loss: 0.3992 - accuracy: 0.9416\n",
      "Epoch 2/10\n",
      "60498/60498 [==============================] - 25s 406us/step - loss: 0.0016 - accuracy: 0.9996\n",
      "Epoch 3/10\n",
      "60498/60498 [==============================] - 24s 405us/step - loss: 0.0717 - accuracy: 0.9874\n",
      "Epoch 4/10\n",
      "60498/60498 [==============================] - 24s 403us/step - loss: 0.0475 - accuracy: 0.9894\n",
      "Epoch 5/10\n",
      "60498/60498 [==============================] - 24s 400us/step - loss: 5.6541e-04 - accuracy: 0.9999\n",
      "Epoch 6/10\n",
      "60498/60498 [==============================] - 25s 407us/step - loss: 0.0035 - accuracy: 0.9991\n",
      "Epoch 7/10\n",
      "60498/60498 [==============================] - 25s 407us/step - loss: 0.0133 - accuracy: 0.9977\n",
      "Epoch 8/10\n",
      "60498/60498 [==============================] - 25s 405us/step - loss: 0.0329 - accuracy: 0.9950\n",
      "Epoch 9/10\n",
      "60498/60498 [==============================] - 25s 405us/step - loss: 0.0112 - accuracy: 0.9977\n",
      "Epoch 10/10\n",
      "60498/60498 [==============================] - 24s 404us/step - loss: 8.7600e-05 - accuracy: 1.0000\n",
      "Wall time: 4min 6s\n"
     ]
    },
    {
     "data": {
      "text/plain": [
       "<keras.callbacks.callbacks.History at 0x23b761156c8>"
      ]
     },
     "execution_count": 54,
     "metadata": {},
     "output_type": "execute_result"
    }
   ],
   "source": [
    "%%time\n",
    "model.fit(training_fruit_img, training_label_id, batch_size = 256, epochs = 10)"
   ]
  },
  {
   "cell_type": "code",
   "execution_count": 55,
   "metadata": {},
   "outputs": [
    {
     "data": {
      "text/plain": [
       "0.9818155368053535"
      ]
     },
     "execution_count": 55,
     "metadata": {},
     "output_type": "execute_result"
    }
   ],
   "source": [
    "predicted_classes = model.predict_classes(test_fruit_img)\n",
    "accuracy_score(predicted_classes, test_label_id)"
   ]
  },
  {
   "cell_type": "code",
   "execution_count": 56,
   "metadata": {},
   "outputs": [],
   "source": [
    "#Точность возрасла. Проверим гипотизу о том, что в данной ситуации большую роль сыграла батч-нормализация"
   ]
  },
  {
   "cell_type": "code",
   "execution_count": 57,
   "metadata": {},
   "outputs": [],
   "source": [
    "model = Sequential()\n",
    "model.add(Conv2D(32, (3, 3), input_shape = (64, 64, 3), padding = \"same\", activation = \"relu\"))\n",
    "model.add(MaxPooling2D(pool_size = (2, 2)))\n",
    "\n",
    "model.add(Conv2D(64, (3, 3), padding = \"same\", activation = \"relu\"))\n",
    "model.add(MaxPooling2D(pool_size = (2, 2)))\n",
    "\n",
    "model.add(Flatten())\n",
    "model.add(Dense(120, activation = \"softmax\"))\n",
    "\n",
    "model.compile(loss = \"sparse_categorical_crossentropy\", optimizer = 'Adam', metrics = ['accuracy'])"
   ]
  },
  {
   "cell_type": "code",
   "execution_count": 58,
   "metadata": {},
   "outputs": [
    {
     "name": "stdout",
     "output_type": "stream",
     "text": [
      "Epoch 1/10\n",
      "60498/60498 [==============================] - 10s 165us/step - loss: 0.5423 - accuracy: 0.8779\n",
      "Epoch 2/10\n",
      "60498/60498 [==============================] - 10s 162us/step - loss: 0.0161 - accuracy: 0.9963\n",
      "Epoch 3/10\n",
      "60498/60498 [==============================] - 10s 163us/step - loss: 0.0090 - accuracy: 0.9979\n",
      "Epoch 4/10\n",
      "60498/60498 [==============================] - 10s 163us/step - loss: 0.0188 - accuracy: 0.9951\n",
      "Epoch 5/10\n",
      "60498/60498 [==============================] - 10s 163us/step - loss: 4.9504e-04 - accuracy: 1.0000\n",
      "Epoch 6/10\n",
      "60498/60498 [==============================] - 10s 162us/step - loss: 2.3053e-04 - accuracy: 1.0000\n",
      "Epoch 7/10\n",
      "60498/60498 [==============================] - 10s 162us/step - loss: 1.1185e-04 - accuracy: 1.0000\n",
      "Epoch 8/10\n",
      "60498/60498 [==============================] - 10s 163us/step - loss: 0.0052 - accuracy: 0.9988\n",
      "Epoch 9/10\n",
      "60498/60498 [==============================] - 10s 163us/step - loss: 0.0384 - accuracy: 0.9905\n",
      "Epoch 10/10\n",
      "60498/60498 [==============================] - 10s 163us/step - loss: 2.4419e-04 - accuracy: 1.0000\n",
      "Wall time: 1min 38s\n"
     ]
    },
    {
     "data": {
      "text/plain": [
       "<keras.callbacks.callbacks.History at 0x23b76805c08>"
      ]
     },
     "execution_count": 58,
     "metadata": {},
     "output_type": "execute_result"
    }
   ],
   "source": [
    "%%time\n",
    "model.fit(training_fruit_img, training_label_id, batch_size = 256, epochs = 10)"
   ]
  },
  {
   "cell_type": "code",
   "execution_count": 59,
   "metadata": {},
   "outputs": [
    {
     "data": {
      "text/plain": [
       "0.9709048588885656"
      ]
     },
     "execution_count": 59,
     "metadata": {},
     "output_type": "execute_result"
    }
   ],
   "source": [
    "predicted_classes = model.predict_classes(test_fruit_img)\n",
    "accuracy_score(predicted_classes, test_label_id)"
   ]
  },
  {
   "cell_type": "code",
   "execution_count": 60,
   "metadata": {},
   "outputs": [],
   "source": [
    "#В данном эксперименте точность предсказания без батч-нормализации упала.\n",
    "#С другой стороны не следует исключать элемент случайности в первоначальной генерации весов. Эксперименты показывают,\n",
    "# что при многократном повторе обучения, точность на тесте варьируется в пределах не более 0.01.\n",
    "#При использовании GPU невозможно полностью исключить случайность"
   ]
  },
  {
   "cell_type": "code",
   "execution_count": 7,
   "metadata": {},
   "outputs": [],
   "source": [
    "#Попробуем ещё сильнее упростить архитектуру сети.\n",
    "#Батч-нормализацию берём в качестве компенсации предполагаемой потери точности.\n",
    "model = Sequential()\n",
    "model.add(Conv2D(64, (3, 3), input_shape = (64, 64, 3), padding = \"same\", activation = \"relu\"))\n",
    "model.add(BatchNormalization())\n",
    "model.add(MaxPooling2D(pool_size = (4, 4)))\n",
    "\n",
    "\n",
    "model.add(Flatten())\n",
    "model.add(Dense(120, activation = \"softmax\"))\n",
    "\n",
    "model.compile(loss = \"sparse_categorical_crossentropy\", optimizer = 'Adam', metrics = ['accuracy'])"
   ]
  },
  {
   "cell_type": "code",
   "execution_count": 8,
   "metadata": {},
   "outputs": [
    {
     "name": "stdout",
     "output_type": "stream",
     "text": [
      "Epoch 1/10\n",
      "60498/60498 [==============================] - 31s 514us/step - loss: 0.3409 - accuracy: 0.9422\n",
      "Epoch 2/10\n",
      "60498/60498 [==============================] - 29s 480us/step - loss: 0.0011 - accuracy: 1.0000\n",
      "Epoch 3/10\n",
      "60498/60498 [==============================] - 29s 479us/step - loss: 3.3477e-04 - accuracy: 1.0000\n",
      "Epoch 4/10\n",
      "60498/60498 [==============================] - 29s 474us/step - loss: 1.8930e-04 - accuracy: 1.0000\n",
      "Epoch 5/10\n",
      "60498/60498 [==============================] - 29s 473us/step - loss: 1.1985e-04 - accuracy: 1.0000\n",
      "Epoch 6/10\n",
      "60498/60498 [==============================] - 29s 472us/step - loss: 8.2040e-05 - accuracy: 1.0000\n",
      "Epoch 7/10\n",
      "60498/60498 [==============================] - 29s 476us/step - loss: 6.0732e-05 - accuracy: 1.0000\n",
      "Epoch 8/10\n",
      "60498/60498 [==============================] - 29s 476us/step - loss: 4.5158e-05 - accuracy: 1.0000\n",
      "Epoch 9/10\n",
      "60498/60498 [==============================] - 29s 472us/step - loss: 3.4258e-05 - accuracy: 1.0000\n",
      "Epoch 10/10\n",
      "60498/60498 [==============================] - 29s 473us/step - loss: 2.6860e-05 - accuracy: 1.0000\n",
      "Wall time: 4min 50s\n"
     ]
    },
    {
     "data": {
      "text/plain": [
       "<keras.callbacks.callbacks.History at 0x264fbb3d2c8>"
      ]
     },
     "execution_count": 8,
     "metadata": {},
     "output_type": "execute_result"
    }
   ],
   "source": [
    "%%time\n",
    "model.fit(training_fruit_img, training_label_id, batch_size = 256, epochs = 10)"
   ]
  },
  {
   "cell_type": "code",
   "execution_count": 63,
   "metadata": {},
   "outputs": [
    {
     "data": {
      "text/plain": [
       "0.9821549801183203"
      ]
     },
     "execution_count": 63,
     "metadata": {},
     "output_type": "execute_result"
    }
   ],
   "source": [
    "predicted_classes = model.predict_classes(test_fruit_img)\n",
    "accuracy_score(predicted_classes, test_label_id)"
   ]
  },
  {
   "cell_type": "code",
   "execution_count": 64,
   "metadata": {},
   "outputs": [],
   "source": [
    "#На данный момент мы получили лучшее лучшую точность, используя всего 1 свёрточный слой.\n",
    "#Исходя из полученных данных можно сделать вывод о том, что для данного набора изображений\n",
    "#не обязательно использовать сложную многослойную архитектуру нейронной сети, которая может приводить к переобучению.\n",
    "#Сохраним модель вместе с весами\n",
    "model.save('best_model.h5')"
   ]
  },
  {
   "cell_type": "code",
   "execution_count": 65,
   "metadata": {},
   "outputs": [],
   "source": [
    "#Сделаем заключительный тест без батч-нормализации, что позволит значительно сократить время обучения\n",
    "model = Sequential()\n",
    "model.add(Conv2D(64, (3, 3), input_shape = (64, 64, 3), padding = \"same\", activation = \"relu\"))\n",
    "model.add(MaxPooling2D(pool_size = (4, 4)))\n",
    "\n",
    "model.add(Flatten())\n",
    "model.add(Dense(120, activation = \"softmax\"))\n",
    "\n",
    "model.compile(loss = \"sparse_categorical_crossentropy\", optimizer = 'Adam', metrics = ['accuracy'])"
   ]
  },
  {
   "cell_type": "code",
   "execution_count": 66,
   "metadata": {},
   "outputs": [
    {
     "name": "stdout",
     "output_type": "stream",
     "text": [
      "Epoch 1/10\n",
      "60498/60498 [==============================] - 10s 166us/step - loss: 0.7690 - accuracy: 0.8408\n",
      "Epoch 2/10\n",
      "60498/60498 [==============================] - 10s 164us/step - loss: 0.0281 - accuracy: 0.9968\n",
      "Epoch 3/10\n",
      "60498/60498 [==============================] - 10s 164us/step - loss: 0.0175 - accuracy: 0.9977\n",
      "Epoch 4/10\n",
      "60498/60498 [==============================] - 10s 164us/step - loss: 0.0047 - accuracy: 0.9998\n",
      "Epoch 5/10\n",
      "60498/60498 [==============================] - 10s 163us/step - loss: 0.0021 - accuracy: 1.0000\n",
      "Epoch 6/10\n",
      "60498/60498 [==============================] - 10s 163us/step - loss: 0.0021 - accuracy: 0.9997\n",
      "Epoch 7/10\n",
      "60498/60498 [==============================] - 10s 163us/step - loss: 0.0013 - accuracy: 0.9999\n",
      "Epoch 8/10\n",
      "60498/60498 [==============================] - 10s 164us/step - loss: 0.0172 - accuracy: 0.9961\n",
      "Epoch 9/10\n",
      "60498/60498 [==============================] - 10s 163us/step - loss: 9.8986e-04 - accuracy: 1.0000\n",
      "Epoch 10/10\n",
      "60498/60498 [==============================] - 10s 163us/step - loss: 4.5222e-04 - accuracy: 1.0000\n",
      "Wall time: 1min 39s\n"
     ]
    },
    {
     "data": {
      "text/plain": [
       "<keras.callbacks.callbacks.History at 0x23b78846608>"
      ]
     },
     "execution_count": 66,
     "metadata": {},
     "output_type": "execute_result"
    }
   ],
   "source": [
    "%%time\n",
    "model.fit(training_fruit_img, training_label_id, batch_size = 256, epochs = 10)"
   ]
  },
  {
   "cell_type": "code",
   "execution_count": 67,
   "metadata": {},
   "outputs": [
    {
     "data": {
      "text/plain": [
       "0.9713897779070895"
      ]
     },
     "execution_count": 67,
     "metadata": {},
     "output_type": "execute_result"
    }
   ],
   "source": [
    "predicted_classes = model.predict_classes(test_fruit_img)\n",
    "accuracy_score(predicted_classes, test_label_id)"
   ]
  }
 ],
 "metadata": {
  "kernelspec": {
   "display_name": "Python 3",
   "language": "python",
   "name": "python3"
  },
  "language_info": {
   "codemirror_mode": {
    "name": "ipython",
    "version": 3
   },
   "file_extension": ".py",
   "mimetype": "text/x-python",
   "name": "python",
   "nbconvert_exporter": "python",
   "pygments_lexer": "ipython3",
   "version": "3.7.7"
  }
 },
 "nbformat": 4,
 "nbformat_minor": 4
}
